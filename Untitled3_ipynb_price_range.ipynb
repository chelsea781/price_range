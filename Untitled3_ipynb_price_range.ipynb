{
  "nbformat": 4,
  "nbformat_minor": 0,
  "metadata": {
    "colab": {
      "provenance": []
    },
    "kernelspec": {
      "name": "python3",
      "display_name": "Python 3"
    },
    "language_info": {
      "name": "python"
    }
  },
  "cells": [
    {
      "cell_type": "markdown",
      "source": [
        "# データをダウンロード"
      ],
      "metadata": {
        "id": "7SsVyd_IGKXF"
      }
    },
    {
      "cell_type": "code",
      "execution_count": null,
      "metadata": {
        "colab": {
          "base_uri": "https://localhost:8080/",
          "height": 109
        },
        "id": "KQEGpftKoWcA",
        "outputId": "556e9b8b-eb65-4389-db16-60b442e616b8"
      },
      "outputs": [
        {
          "output_type": "display_data",
          "data": {
            "text/plain": [
              "<IPython.core.display.HTML object>"
            ],
            "text/html": [
              "\n",
              "     <input type=\"file\" id=\"files-2df28a70-4e0a-4306-b774-9c804aacc65e\" name=\"files[]\" multiple disabled\n",
              "        style=\"border:none\" />\n",
              "     <output id=\"result-2df28a70-4e0a-4306-b774-9c804aacc65e\">\n",
              "      Upload widget is only available when the cell has been executed in the\n",
              "      current browser session. Please rerun this cell to enable.\n",
              "      </output>\n",
              "      <script>// Copyright 2017 Google LLC\n",
              "//\n",
              "// Licensed under the Apache License, Version 2.0 (the \"License\");\n",
              "// you may not use this file except in compliance with the License.\n",
              "// You may obtain a copy of the License at\n",
              "//\n",
              "//      http://www.apache.org/licenses/LICENSE-2.0\n",
              "//\n",
              "// Unless required by applicable law or agreed to in writing, software\n",
              "// distributed under the License is distributed on an \"AS IS\" BASIS,\n",
              "// WITHOUT WARRANTIES OR CONDITIONS OF ANY KIND, either express or implied.\n",
              "// See the License for the specific language governing permissions and\n",
              "// limitations under the License.\n",
              "\n",
              "/**\n",
              " * @fileoverview Helpers for google.colab Python module.\n",
              " */\n",
              "(function(scope) {\n",
              "function span(text, styleAttributes = {}) {\n",
              "  const element = document.createElement('span');\n",
              "  element.textContent = text;\n",
              "  for (const key of Object.keys(styleAttributes)) {\n",
              "    element.style[key] = styleAttributes[key];\n",
              "  }\n",
              "  return element;\n",
              "}\n",
              "\n",
              "// Max number of bytes which will be uploaded at a time.\n",
              "const MAX_PAYLOAD_SIZE = 100 * 1024;\n",
              "\n",
              "function _uploadFiles(inputId, outputId) {\n",
              "  const steps = uploadFilesStep(inputId, outputId);\n",
              "  const outputElement = document.getElementById(outputId);\n",
              "  // Cache steps on the outputElement to make it available for the next call\n",
              "  // to uploadFilesContinue from Python.\n",
              "  outputElement.steps = steps;\n",
              "\n",
              "  return _uploadFilesContinue(outputId);\n",
              "}\n",
              "\n",
              "// This is roughly an async generator (not supported in the browser yet),\n",
              "// where there are multiple asynchronous steps and the Python side is going\n",
              "// to poll for completion of each step.\n",
              "// This uses a Promise to block the python side on completion of each step,\n",
              "// then passes the result of the previous step as the input to the next step.\n",
              "function _uploadFilesContinue(outputId) {\n",
              "  const outputElement = document.getElementById(outputId);\n",
              "  const steps = outputElement.steps;\n",
              "\n",
              "  const next = steps.next(outputElement.lastPromiseValue);\n",
              "  return Promise.resolve(next.value.promise).then((value) => {\n",
              "    // Cache the last promise value to make it available to the next\n",
              "    // step of the generator.\n",
              "    outputElement.lastPromiseValue = value;\n",
              "    return next.value.response;\n",
              "  });\n",
              "}\n",
              "\n",
              "/**\n",
              " * Generator function which is called between each async step of the upload\n",
              " * process.\n",
              " * @param {string} inputId Element ID of the input file picker element.\n",
              " * @param {string} outputId Element ID of the output display.\n",
              " * @return {!Iterable<!Object>} Iterable of next steps.\n",
              " */\n",
              "function* uploadFilesStep(inputId, outputId) {\n",
              "  const inputElement = document.getElementById(inputId);\n",
              "  inputElement.disabled = false;\n",
              "\n",
              "  const outputElement = document.getElementById(outputId);\n",
              "  outputElement.innerHTML = '';\n",
              "\n",
              "  const pickedPromise = new Promise((resolve) => {\n",
              "    inputElement.addEventListener('change', (e) => {\n",
              "      resolve(e.target.files);\n",
              "    });\n",
              "  });\n",
              "\n",
              "  const cancel = document.createElement('button');\n",
              "  inputElement.parentElement.appendChild(cancel);\n",
              "  cancel.textContent = 'Cancel upload';\n",
              "  const cancelPromise = new Promise((resolve) => {\n",
              "    cancel.onclick = () => {\n",
              "      resolve(null);\n",
              "    };\n",
              "  });\n",
              "\n",
              "  // Wait for the user to pick the files.\n",
              "  const files = yield {\n",
              "    promise: Promise.race([pickedPromise, cancelPromise]),\n",
              "    response: {\n",
              "      action: 'starting',\n",
              "    }\n",
              "  };\n",
              "\n",
              "  cancel.remove();\n",
              "\n",
              "  // Disable the input element since further picks are not allowed.\n",
              "  inputElement.disabled = true;\n",
              "\n",
              "  if (!files) {\n",
              "    return {\n",
              "      response: {\n",
              "        action: 'complete',\n",
              "      }\n",
              "    };\n",
              "  }\n",
              "\n",
              "  for (const file of files) {\n",
              "    const li = document.createElement('li');\n",
              "    li.append(span(file.name, {fontWeight: 'bold'}));\n",
              "    li.append(span(\n",
              "        `(${file.type || 'n/a'}) - ${file.size} bytes, ` +\n",
              "        `last modified: ${\n",
              "            file.lastModifiedDate ? file.lastModifiedDate.toLocaleDateString() :\n",
              "                                    'n/a'} - `));\n",
              "    const percent = span('0% done');\n",
              "    li.appendChild(percent);\n",
              "\n",
              "    outputElement.appendChild(li);\n",
              "\n",
              "    const fileDataPromise = new Promise((resolve) => {\n",
              "      const reader = new FileReader();\n",
              "      reader.onload = (e) => {\n",
              "        resolve(e.target.result);\n",
              "      };\n",
              "      reader.readAsArrayBuffer(file);\n",
              "    });\n",
              "    // Wait for the data to be ready.\n",
              "    let fileData = yield {\n",
              "      promise: fileDataPromise,\n",
              "      response: {\n",
              "        action: 'continue',\n",
              "      }\n",
              "    };\n",
              "\n",
              "    // Use a chunked sending to avoid message size limits. See b/62115660.\n",
              "    let position = 0;\n",
              "    do {\n",
              "      const length = Math.min(fileData.byteLength - position, MAX_PAYLOAD_SIZE);\n",
              "      const chunk = new Uint8Array(fileData, position, length);\n",
              "      position += length;\n",
              "\n",
              "      const base64 = btoa(String.fromCharCode.apply(null, chunk));\n",
              "      yield {\n",
              "        response: {\n",
              "          action: 'append',\n",
              "          file: file.name,\n",
              "          data: base64,\n",
              "        },\n",
              "      };\n",
              "\n",
              "      let percentDone = fileData.byteLength === 0 ?\n",
              "          100 :\n",
              "          Math.round((position / fileData.byteLength) * 100);\n",
              "      percent.textContent = `${percentDone}% done`;\n",
              "\n",
              "    } while (position < fileData.byteLength);\n",
              "  }\n",
              "\n",
              "  // All done.\n",
              "  yield {\n",
              "    response: {\n",
              "      action: 'complete',\n",
              "    }\n",
              "  };\n",
              "}\n",
              "\n",
              "scope.google = scope.google || {};\n",
              "scope.google.colab = scope.google.colab || {};\n",
              "scope.google.colab._files = {\n",
              "  _uploadFiles,\n",
              "  _uploadFilesContinue,\n",
              "};\n",
              "})(self);\n",
              "</script> "
            ]
          },
          "metadata": {}
        },
        {
          "output_type": "stream",
          "name": "stdout",
          "text": [
            "Saving test.csv to test.csv\n",
            "Saving train.csv to train.csv\n"
          ]
        }
      ],
      "source": [
        "from google.colab import files\n",
        "uploaded = files.upload()"
      ]
    },
    {
      "cell_type": "code",
      "source": [
        "import pandas as pd\n",
        "train_data = pd.read_csv(\"train.csv\")\n",
        "test_data = pd.read_csv(\"test.csv\")\n",
        "\n"
      ],
      "metadata": {
        "id": "nKKty6HBo2QR"
      },
      "execution_count": null,
      "outputs": []
    },
    {
      "cell_type": "code",
      "source": [
        "# セットアップ\n",
        "import numpy as np\n",
        "from sklearn.preprocessing import StandardScaler\n",
        "from sklearn.cluster import KMeans\n",
        "from sklearn.ensemble import RandomForestClassifier\n",
        "from sklearn.model_selection import train_test_split\n",
        "from sklearn.metrics import accuracy_score\n",
        "\n",
        "print(\"Setup Complete !\")"
      ],
      "metadata": {
        "colab": {
          "base_uri": "https://localhost:8080/"
        },
        "id": "aLwINnAwpjDb",
        "outputId": "d0956975-0738-49e8-fb60-97edf842637e"
      },
      "execution_count": null,
      "outputs": [
        {
          "output_type": "stream",
          "name": "stdout",
          "text": [
            "Setup Complete !\n"
          ]
        }
      ]
    },
    {
      "cell_type": "markdown",
      "source": [
        "# データ分析"
      ],
      "metadata": {
        "id": "z7_Nv6XHGObO"
      }
    },
    {
      "cell_type": "code",
      "source": [
        "# データの特徴を見てみよう\n",
        "from scipy import stats\n",
        "from sklearn.preprocessing import MinMaxScaler\n",
        "import seaborn as sns\n",
        "import matplotlib.pyplot as plt\n",
        "np.random.seed(0)\n",
        "\n",
        "train_data_plot = train_data.copy()\n",
        "selected_columns = ['battery_power',\n",
        "'clock_speed',\n",
        "'fc',\n",
        "'int_memory',\n",
        "'m_dep',\n",
        "'mobile_wt',\n",
        "'n_cores',\n",
        "'pc',\n",
        "'px_height',\n",
        "'px_width',\n",
        "'ram',\n",
        "'sc_h',\n",
        "'sc_w',\n",
        "'talk_time']\n",
        "\n",
        "selected_features = train_data_plot[selected_columns]\n",
        "scaler = MinMaxScaler()\n",
        "scaled_selected_features = pd.DataFrame(scaler.fit_transform(selected_features), columns = selected_features.columns)\n",
        "other_features = train_data_plot[[ 'blue', 'dual_sim', 'four_g', 'three_g', 'touch_screen', 'wifi']]\n",
        "plot_data = pd.concat([scaled_selected_features, other_features], axis=1)\n",
        "\n",
        "plt.figure(figsize=(12, 8))\n",
        "\n",
        "grouped_median= plot_data.groupby(train_data['price_range']).median()\n",
        "grouped_median.T.plot(kind='barh', figsize=(12, 8))\n",
        "plt.title(\"Median of Scaled Features by Price Range\")\n",
        "plt.legend(title=\"Price Range\")\n",
        "plt.tight_layout()\n",
        "plt.show()\n",
        "# データの特徴を見ると、\n",
        "# 価格帯２：割とわかりやすい。dual_simの搭載率が高い!? wifi使わずにfour_gで満足してるのかな\n",
        "\n",
        "# 価格帯２の特徴量作成：\n",
        "train_data['price2_traits'] = ((train_data['ram'] > 366) & (train_data['px_height'] > 49)).astype(int)\n",
        "ratio = train_data['price2_traits'].mean()\n",
        "print(f\"price_2_traitsの割合: {ratio:.3f}\")\n",
        "print(train_data.groupby('price_range')['price2_traits'].mean())\n",
        "# ↑ 価格帯２だけ37％前後、で価格帯２を見分けられる！\n",
        "\n",
        "\n"
      ],
      "metadata": {
        "colab": {
          "base_uri": "https://localhost:8080/",
          "height": 950
        },
        "id": "oGHn5Xt7qw4O",
        "outputId": "84e63013-04f0-4fd8-e3bd-6fd30570bf9b"
      },
      "execution_count": null,
      "outputs": [
        {
          "output_type": "display_data",
          "data": {
            "text/plain": [
              "<Figure size 1200x800 with 0 Axes>"
            ]
          },
          "metadata": {}
        },
        {
          "output_type": "display_data",
          "data": {
            "text/plain": [
              "<Figure size 1200x800 with 1 Axes>"
            ],
            "image/png": "[encoded data removed]"
          },
          "metadata": {}
        },
        {
          "output_type": "stream",
          "name": "stdout",
          "text": [
            "price_2_traitsの割合: 0.735\n",
            "price_range\n",
            "0    0.965318\n",
            "1    0.953704\n",
            "2    0.373984\n",
            "3    0.964824\n",
            "Name: price2_traits, dtype: float64\n"
          ]
        }
      ]
    },
    {
      "cell_type": "code",
      "source": [
        "# 価格帯０,1,３は似ている\n",
        "# 価格帯０と３の最頻値の「差」を見てみよう!\n",
        "price0 = train_data[train_data['price_range'] == 0]\n",
        "price0_mode = price0.mode().iloc[0]\n",
        "\n",
        "price3 = train_data[train_data['price_range'] ==3]\n",
        "price3_mode = price3.mode().iloc[0]\n",
        "\n",
        "mode_diff = price0_mode - price3_mode\n",
        "\n",
        "mode_df = pd.DataFrame({'price0_mode': price0_mode, 'price3_mode': price3_mode, '差額': mode_diff}).round(2)\n",
        "\n",
        "zero_diff = mode_df[mode_df['差額'] == 0.00]\n",
        "plus_diff = mode_df[mode_df['差額'] > 0]\n",
        "negative_diff = mode_df[mode_df['差額'] < 0]\n",
        "\n",
        "plus_mask = mode_diff > 0\n",
        "plus_diff_df = pd.DataFrame({'price0_mode': price0_mode[plus_mask],'price3_mode': price3_mode[plus_mask], '差額': mode_diff[plus_mask]}).round(2)\n",
        "\n",
        "negative_mask = mode_diff < 0\n",
        "negative_diff_df = pd.DataFrame({'price0_mode': price0_mode[negative_mask],'price3_mode': price3_mode[negative_mask], '差額': mode_diff[negative_mask]}).round(2)\n",
        "\n",
        "print(\"\\nplus_diff_df:\\n\",plus_diff_df,\"\\n\")\n",
        "print(\"\\nnegative_diff_df:\\n\",negative_diff_df, \"\\n\")\n",
        "\n",
        "#　考察結果：\n",
        "# plus_diff_dfの方はprice0_modeの方が数値が高くなる\n",
        "# negative_diff_dfの方はprice3_modeの数値が高くなる\n",
        "\n",
        "# 考察①の特徴量作成\n",
        "for col in mode_diff.index:\n",
        "  if col in train_data.columns and np.issubdtype(train_data[col].dtype, np.number):\n",
        "    # 価格帯３寄りかどうかを０か１で\n",
        "    train_data[f'{col}_closer_to_price'] = (train_data[col] - price3_mode[col]).apply(lambda x: 1 if x > 0 else 0)\n",
        "    # 価格帯０からどれくらい遠いか\n",
        "    train_data[f'{col}_abs_diff_from_price0'] = abs(train_data[col] - price0_mode[col])\n"
      ],
      "metadata": {
        "colab": {
          "base_uri": "https://localhost:8080/"
        },
        "id": "pXV9M8fow5vK",
        "outputId": "d42acf40-f7be-4306-a21f-03870bee66aa"
      },
      "execution_count": null,
      "outputs": [
        {
          "output_type": "stream",
          "name": "stdout",
          "text": [
            "\n",
            "plus_diff_df:\n",
            "              price0_mode  price3_mode     差額\n",
            "clock_speed         0.47         0.47    0.0\n",
            "int_memory         33.00        12.00   21.0\n",
            "n_cores             8.00         4.00    4.0\n",
            "px_height         667.00       364.00  303.0\n",
            "px_width         1199.00       721.00  478.0\n",
            "talk_time           8.00         6.00    2.0 \n",
            "\n",
            "\n",
            "negative_diff_df:\n",
            "              price0_mode  price3_mode    差額\n",
            "id                  7.00         9.00  -2.0\n",
            "m_dep               0.02         0.02  -0.0\n",
            "mobile_wt         101.00       113.00 -12.0\n",
            "pc                  0.00         1.00  -1.0\n",
            "sc_h               15.00        18.00  -3.0\n",
            "sc_w                1.00         3.00  -2.0\n",
            "price_range         0.00         3.00  -3.0 \n",
            "\n"
          ]
        }
      ]
    },
    {
      "cell_type": "code",
      "source": [
        "# 上記のDataFrameで使えそうな特徴量\n",
        "features_for_cluster = ['m_dep', 'mobile_wt', 'pc', 'px_width', 'sc_h','px_height']\n",
        "\n",
        "# 価格帯０〜３をKmeansでクラスタリングして、特徴量を作成！\n",
        "cluster_models = []\n",
        "scaler = StandardScaler()\n",
        "scaler.fit(train_data[features_for_cluster])\n",
        "\n",
        "for price in range(4):\n",
        "  mask = train_data['price_range'] == price\n",
        "  data = train_data[mask].copy()\n",
        "\n",
        "  X_scaled = scaler.transform(data[features_for_cluster])\n",
        "\n",
        "  kmeans = KMeans(n_clusters = 2, random_state=0)\n",
        "  cluster_labels = kmeans.fit_predict(X_scaled)\n",
        "\n",
        "  cluster_models.append(kmeans)\n",
        "\n",
        "  cluster_col = f'price{price}_cluster'\n",
        "  train_data[cluster_col] = -1\n",
        "  train_data.loc[data.index, cluster_col] = cluster_labels\n",
        "\n",
        "  print(f\"\\n== price_range {price}　クラスタ中心===\")\n",
        "  data[cluster_col] = cluster_labels\n",
        "  print(data.groupby(cluster_col)[features_for_cluster].mean())"
      ],
      "metadata": {
        "colab": {
          "base_uri": "https://localhost:8080/"
        },
        "id": "o461TCmZqAvr",
        "outputId": "ba29eba7-996e-4bc7-f291-3c777258ca67"
      },
      "execution_count": null,
      "outputs": [
        {
          "output_type": "stream",
          "name": "stdout",
          "text": [
            "\n",
            "== price_range 0　クラスタ中心===\n",
            "                  m_dep   mobile_wt         pc     px_width       sc_h  \\\n",
            "price0_cluster                                                           \n",
            "0               0.27625  148.156250   4.031250  1347.000000  11.583333   \n",
            "1               0.60728  129.545455  11.519481  1387.454545  14.077922   \n",
            "\n",
            "                 px_height  \n",
            "price0_cluster              \n",
            "0               505.604167  \n",
            "1               465.168831  \n",
            "\n",
            "== price_range 1　クラスタ中心===\n",
            "                   m_dep   mobile_wt        pc     px_width       sc_h  \\\n",
            "price1_cluster                                                           \n",
            "0               0.520601  145.700000  9.015385  1341.076923  13.253846   \n",
            "1               0.370423  156.697674  9.686047  1589.093023  12.558140   \n",
            "\n",
            "                 px_height  \n",
            "price1_cluster              \n",
            "0               309.515385  \n",
            "1               966.651163  \n",
            "\n",
            "== price_range 2　クラスタ中心===\n",
            "                   m_dep   mobile_wt        pc     px_width       sc_h  \\\n",
            "price2_cluster                                                           \n",
            "0               0.442681  144.520833  9.347222  1292.201389  12.979167   \n",
            "1               0.043679  104.884444  5.253333  1877.657778   7.191111   \n",
            "\n",
            "                 px_height  \n",
            "price2_cluster              \n",
            "0               467.729167  \n",
            "1               273.777778  \n",
            "\n",
            "== price_range 3　クラスタ中心===\n",
            "                   m_dep   mobile_wt         pc     px_width       sc_h  \\\n",
            "price3_cluster                                                            \n",
            "0               0.533644  140.355769   4.240385  1396.538462  13.701923   \n",
            "1               0.503451  148.136842  15.736842  1311.326316  13.273684   \n",
            "\n",
            "                 px_height  \n",
            "price3_cluster              \n",
            "0               441.538462  \n",
            "1               523.684211  \n"
          ]
        }
      ]
    },
    {
      "cell_type": "markdown",
      "source": [
        "# モデル学習"
      ],
      "metadata": {
        "id": "8OYG-U6pGS67"
      }
    },
    {
      "cell_type": "code",
      "source": [
        "# モデル学習\n",
        "# 'price0_cluster', 'price1_cluster', 'price2_cluster', 'price3_cluster',\n",
        "features = ['px_width_closer_to_price','price2_traits', 'px_width_abs_diff_from_price0', 'px_width', 'ram']\n",
        "\n",
        "X = train_data[features]\n",
        "y = train_data['price_range']\n",
        "train_X, val_X, train_y, val_y = train_test_split(X, y, train_size=0.8, random_state=0)\n",
        "\n",
        "forest_model = RandomForestClassifier(class_weight='balanced', random_state=1)\n",
        "forest_model.fit(train_X, train_y)\n",
        "val_preds = forest_model.predict(val_X)\n",
        "print(f\"Validation Accuracy: {accuracy_score(val_y, val_preds):.4f}\")"
      ],
      "metadata": {
        "colab": {
          "base_uri": "https://localhost:8080/"
        },
        "id": "F2vFOGwI9mmm",
        "outputId": "2d6db9a0-c4e7-4ce9-a821-d7b516f0f4cb"
      },
      "execution_count": null,
      "outputs": [
        {
          "output_type": "stream",
          "name": "stdout",
          "text": [
            "Validation Accuracy: 0.4635\n"
          ]
        }
      ]
    },
    {
      "cell_type": "code",
      "source": [
        "# どの特徴量が効いているのかな？\n",
        "import matplotlib.pyplot as plt\n",
        "\n",
        "importances = forest_model.feature_importances_\n",
        "plt.barh(features, importances)\n",
        "plt.xlabel(\"Feature Importance\")\n",
        "plt.show()\n",
        "\n",
        "# Kmeansがダントツですね"
      ],
      "metadata": {
        "colab": {
          "base_uri": "https://localhost:8080/",
          "height": 449
        },
        "id": "xCQwwCepBO2a",
        "outputId": "b1dab54b-3a0a-427b-a951-0b71961d1167"
      },
      "execution_count": null,
      "outputs": [
        {
          "output_type": "display_data",
          "data": {
            "text/plain": [
              "<Figure size 640x480 with 1 Axes>"
            ],
            "image/png": "[encoded data removed]"
          },
          "metadata": {}
        }
      ]
    },
    {
      "cell_type": "code",
      "source": [
        "# モデルの検証、それでも0.5なんだ\n",
        "from sklearn.impute import SimpleImputer\n",
        "from sklearn.pipeline import Pipeline\n",
        "from sklearn.ensemble import RandomForestClassifier\n",
        "from sklearn.model_selection import cross_val_score\n",
        "\n",
        "my_pipeline = Pipeline(steps=[('preprocessor', SimpleImputer()), ('model', RandomForestClassifier(n_estimators=50, random_state=0))])\n",
        "# cross-validation\n",
        "scores = cross_val_score(my_pipeline, X, y, cv=5, scoring='accuracy')\n",
        "print(\"Accuracy scores:\\n\", scores)"
      ],
      "metadata": {
        "colab": {
          "base_uri": "https://localhost:8080/"
        },
        "id": "QVvj-DqbCG71",
        "outputId": "0180203c-3ba8-4bf6-9742-57d775731b2a"
      },
      "execution_count": null,
      "outputs": [
        {
          "output_type": "stream",
          "name": "stdout",
          "text": [
            "Accuracy scores:\n",
            " [0.5        0.4375     0.51308901 0.41884817 0.5026178 ]\n"
          ]
        }
      ]
    },
    {
      "cell_type": "code",
      "source": [
        "# 提出用ファイル作成\n",
        "#for i in range(4):\n",
        " # kmeans = cluster_models[i]\n",
        "  #test_data_scaled = scaler.transform(test_data[features_for_cluster])\n",
        "  #test_data[f'price{i}_cluster'] = kmeans.predict(test_data_scaled)\n",
        "\n",
        "test_data['price2_traits'] = ((test_data['ram'] > 366) & (test_data['px_height'] > 49)).astype(int)\n",
        "\n",
        "for col in mode_diff.index:\n",
        "  if col in test_data.columns and np.issubdtype(test_data[col].dtype, np.number):\n",
        "    test_data[f'{col}_closer_to_price'] = (test_data[col] > price3_mode[col]).astype(int)\n",
        "    test_data[f'{col}_abs_diff_from_price0'] = abs(test_data[col] - price0_mode[col])\n",
        "\n",
        "features = ['px_width_closer_to_price','price2_traits', 'px_width_abs_diff_from_price0', 'px_width', 'ram']\n",
        "\n",
        "X_test = test_data[features]\n",
        "test_preds = forest_model.predict(X_test)\n",
        "\n",
        "submission = pd.DataFrame({'index': test_data['id'], 'price_range': test_preds})\n",
        "submission.to_csv('submission.csv', index=False, header=False)\n",
        "print(\"submission.csv saved !\")\n",
        "\n",
        "from google.colab import files\n",
        "files.download('submission.csv')"
      ],
      "metadata": {
        "colab": {
          "base_uri": "https://localhost:8080/",
          "height": 35
        },
        "id": "C24U7cCTLmXR",
        "outputId": "dafeeb0e-604c-4703-9f56-a23a1192dc87"
      },
      "execution_count": null,
      "outputs": [
        {
          "output_type": "stream",
          "name": "stdout",
          "text": [
            "submission.csv saved !\n"
          ]
        },
        {
          "output_type": "display_data",
          "data": {
            "text/plain": [
              "<IPython.core.display.Javascript object>"
            ],
            "application/javascript": [
              "\n",
              "    async function download(id, filename, size) {\n",
              "      if (!google.colab.kernel.accessAllowed) {\n",
              "        return;\n",
              "      }\n",
              "      const div = document.createElement('div');\n",
              "      const label = document.createElement('label');\n",
              "      label.textContent = `Downloading \"${filename}\": `;\n",
              "      div.appendChild(label);\n",
              "      const progress = document.createElement('progress');\n",
              "      progress.max = size;\n",
              "      div.appendChild(progress);\n",
              "      document.body.appendChild(div);\n",
              "\n",
              "      const buffers = [];\n",
              "      let downloaded = 0;\n",
              "\n",
              "      const channel = await google.colab.kernel.comms.open(id);\n",
              "      // Send a message to notify the kernel that we're ready.\n",
              "      channel.send({})\n",
              "\n",
              "      for await (const message of channel.messages) {\n",
              "        // Send a message to notify the kernel that we're ready.\n",
              "        channel.send({})\n",
              "        if (message.buffers) {\n",
              "          for (const buffer of message.buffers) {\n",
              "            buffers.push(buffer);\n",
              "            downloaded += buffer.byteLength;\n",
              "            progress.value = downloaded;\n",
              "          }\n",
              "        }\n",
              "      }\n",
              "      const blob = new Blob(buffers, {type: 'application/binary'});\n",
              "      const a = document.createElement('a');\n",
              "      a.href = window.URL.createObjectURL(blob);\n",
              "      a.download = filename;\n",
              "      div.appendChild(a);\n",
              "      a.click();\n",
              "      div.remove();\n",
              "    }\n",
              "  "
            ]
          },
          "metadata": {}
        },
        {
          "output_type": "display_data",
          "data": {
            "text/plain": [
              "<IPython.core.display.Javascript object>"
            ],
            "application/javascript": [
              "download(\"download_d4a39d87-22fc-47f4-a501-e1e9acb740c2\", \"submission.csv\", 4099)"
            ]
          },
          "metadata": {}
        }
      ]
    },
    {
      "cell_type": "markdown",
      "source": [
        "# 振り返りと今回の反省点"
      ],
      "metadata": {
        "id": "otmwdtkCGW8k"
      }
    },
    {
      "cell_type": "code",
      "source": [
        "# 過学習のチェック\n",
        "\n",
        "fetures_to_check =[ 'px_width_closer_to_price','price2_traits', 'px_width_abs_diff_from_price0', 'px_width', 'ram']\n",
        "\n",
        "for feature in features_to_check:\n",
        "  plt.figure(figsize=(6,4))\n",
        "  plt.hist(train_data[feature], bins=30, alpha=0.5, label='Train', color='blue', density=True)\n",
        "  plt.hist(test_data[feature], bins=30, alpha=0.5, label='Test', color='orange', density=True)\n",
        "  plt.title(f'Distribution of {feature}')\n",
        "  plt.xlabel(feature)\n",
        "  plt.ylabel('Density')\n",
        "  plt.legend()\n",
        "  plt.grid(True)\n",
        "  plt.show()"
      ],
      "metadata": {
        "colab": {
          "base_uri": "https://localhost:8080/",
          "height": 216
        },
        "id": "fnCwodEJvgCB",
        "outputId": "8ddc35e7-5271-4272-c64c-3452bd382f2b"
      },
      "execution_count": null,
      "outputs": [
        {
          "output_type": "error",
          "ename": "NameError",
          "evalue": "name 'features_to_check' is not defined",
          "traceback": [
            "\u001b[0;31m---------------------------------------------------------------------------\u001b[0m",
            "\u001b[0;31mNameError\u001b[0m                                 Traceback (most recent call last)",
            "\u001b[0;32m<ipython-input-25-bc038793b818>\u001b[0m in \u001b[0;36m<cell line: 0>\u001b[0;34m()\u001b[0m\n\u001b[1;32m      3\u001b[0m \u001b[0mfetures_to_check\u001b[0m \u001b[0;34m=\u001b[0m\u001b[0;34m[\u001b[0m \u001b[0;34m'px_width_closer_to_price'\u001b[0m\u001b[0;34m,\u001b[0m\u001b[0;34m'price2_traits'\u001b[0m\u001b[0;34m,\u001b[0m \u001b[0;34m'px_width_abs_diff_from_price0'\u001b[0m\u001b[0;34m,\u001b[0m \u001b[0;34m'px_width'\u001b[0m\u001b[0;34m,\u001b[0m \u001b[0;34m'ram'\u001b[0m\u001b[0;34m]\u001b[0m\u001b[0;34m\u001b[0m\u001b[0;34m\u001b[0m\u001b[0m\n\u001b[1;32m      4\u001b[0m \u001b[0;34m\u001b[0m\u001b[0m\n\u001b[0;32m----> 5\u001b[0;31m \u001b[0;32mfor\u001b[0m \u001b[0mfeature\u001b[0m \u001b[0;32min\u001b[0m \u001b[0mfeatures_to_check\u001b[0m\u001b[0;34m:\u001b[0m\u001b[0;34m\u001b[0m\u001b[0;34m\u001b[0m\u001b[0m\n\u001b[0m\u001b[1;32m      6\u001b[0m   \u001b[0mplt\u001b[0m\u001b[0;34m.\u001b[0m\u001b[0mfigure\u001b[0m\u001b[0;34m(\u001b[0m\u001b[0mfigsize\u001b[0m\u001b[0;34m=\u001b[0m\u001b[0;34m(\u001b[0m\u001b[0;36m6\u001b[0m\u001b[0;34m,\u001b[0m\u001b[0;36m4\u001b[0m\u001b[0;34m)\u001b[0m\u001b[0;34m)\u001b[0m\u001b[0;34m\u001b[0m\u001b[0;34m\u001b[0m\u001b[0m\n\u001b[1;32m      7\u001b[0m   \u001b[0mplt\u001b[0m\u001b[0;34m.\u001b[0m\u001b[0mhist\u001b[0m\u001b[0;34m(\u001b[0m\u001b[0mtrain_data\u001b[0m\u001b[0;34m[\u001b[0m\u001b[0mfeature\u001b[0m\u001b[0;34m]\u001b[0m\u001b[0;34m,\u001b[0m \u001b[0mbins\u001b[0m\u001b[0;34m=\u001b[0m\u001b[0;36m30\u001b[0m\u001b[0;34m,\u001b[0m \u001b[0malpha\u001b[0m\u001b[0;34m=\u001b[0m\u001b[0;36m0.5\u001b[0m\u001b[0;34m,\u001b[0m \u001b[0mlabel\u001b[0m\u001b[0;34m=\u001b[0m\u001b[0;34m'Train'\u001b[0m\u001b[0;34m,\u001b[0m \u001b[0mcolor\u001b[0m\u001b[0;34m=\u001b[0m\u001b[0;34m'blue'\u001b[0m\u001b[0;34m,\u001b[0m \u001b[0mdensity\u001b[0m\u001b[0;34m=\u001b[0m\u001b[0;32mTrue\u001b[0m\u001b[0;34m)\u001b[0m\u001b[0;34m\u001b[0m\u001b[0;34m\u001b[0m\u001b[0m\n",
            "\u001b[0;31mNameError\u001b[0m: name 'features_to_check' is not defined"
          ]
        }
      ]
    },
    {
      "cell_type": "markdown",
      "source": [
        "#今回の反省点\n",
        "データの細かい分析の部分が弱かったかな\n",
        "→もっと統計学の知識を活かした分析をするべきだったと反省\n",
        "\n",
        "Kmeansを使ったのは良いけど、train_dataにマッチしすぎて結果的に過学習を起こしてしまった。\n",
        "\n",
        "結果は上位１０％以内には入れたけど、もっと上を目指したい！"
      ],
      "metadata": {
        "id": "u33QXQm0E98q"
      }
    }
  ]
}